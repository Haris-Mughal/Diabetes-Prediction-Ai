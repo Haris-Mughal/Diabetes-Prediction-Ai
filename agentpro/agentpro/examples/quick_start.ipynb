{
  "nbformat": 4,
  "nbformat_minor": 0,
  "metadata": {
    "colab": {
      "provenance": []
    },
    "kernelspec": {
      "name": "python3",
      "display_name": "Python 3"
    },
    "language_info": {
      "name": "python"
    }
  },
  "cells": [
    {
      "cell_type": "markdown",
      "source": [
        "# 🤖 AgentPro Quick Start Guide\n",
        "\n",
        "This notebook will walk you through how to set up and use [AgentPro](https://github.com/traversaal-ai/AgentPro) — a production-ready open-source agent framework built by [Traversaal.ai](https://traversaal.ai) for building powerful, modular, and multi-functional AI agents.\n",
        "\n",
        "### What is AgentPro?\n",
        "AgentPro lets you build intelligent agents that can:\n",
        "- Use language models (like OpenAI’s GPT) as reasoning engines\n",
        "- Solve real-world tasks such as research, automation, and knowledge retrieval\n",
        "- Scale up with custom tools, memory, and orchestration features\n",
        "\n",
        "Whether you're a developer, researcher, or AI enthusiast — this guide will help you:\n",
        "- Set up AgentPro in minutes  \n",
        "- Run and customize your first agent\n"
      ],
      "metadata": {
        "id": "CyxnkWVzhqOi"
      }
    },
    {
      "cell_type": "markdown",
      "source": [
        "## Step 1: Clone AgentPro and Install Dependencies\n",
        "\n",
        "To get started with AgentPro, begin by cloning the official GitHub repository and installing its dependencies."
      ],
      "metadata": {
        "id": "Fi5Eth4ge70O"
      }
    },
    {
      "cell_type": "code",
      "execution_count": 1,
      "metadata": {
        "colab": {
          "base_uri": "https://localhost:8080/"
        },
        "id": "tCGHQVf-Q2Zj",
        "outputId": "f8664945-5bbc-4516-af9f-a4c53514def5"
      },
      "outputs": [
        {
          "output_type": "stream",
          "name": "stdout",
          "text": [
            "Cloning into 'AgentPro'...\n",
            "remote: Enumerating objects: 600, done.\u001b[K\n",
            "remote: Counting objects: 100% (292/292), done.\u001b[K\n",
            "remote: Compressing objects: 100% (205/205), done.\u001b[K\n",
            "remote: Total 600 (delta 206), reused 101 (delta 83), pack-reused 308 (from 2)\u001b[K\n",
            "Receiving objects: 100% (600/600), 228.40 KiB | 3.81 MiB/s, done.\n",
            "Resolving deltas: 100% (343/343), done.\n",
            "/content/AgentPro\n",
            "Requirement already satisfied: openai in /usr/local/lib/python3.11/dist-packages (from -r requirements.txt (line 1)) (1.76.0)\n",
            "Collecting youtube_transcript_api (from -r requirements.txt (line 2))\n",
            "  Downloading youtube_transcript_api-1.0.3-py3-none-any.whl.metadata (23 kB)\n",
            "Collecting duckduckgo-search (from -r requirements.txt (line 3))\n",
            "  Downloading duckduckgo_search-8.0.1-py3-none-any.whl.metadata (16 kB)\n",
            "Requirement already satisfied: requests in /usr/local/lib/python3.11/dist-packages (from -r requirements.txt (line 4)) (2.32.3)\n",
            "Collecting python-pptx (from -r requirements.txt (line 5))\n",
            "  Downloading python_pptx-1.0.2-py3-none-any.whl.metadata (2.5 kB)\n",
            "Requirement already satisfied: pydantic in /usr/local/lib/python3.11/dist-packages (from -r requirements.txt (line 6)) (2.11.3)\n",
            "Collecting python-dotenv (from -r requirements.txt (line 7))\n",
            "  Downloading python_dotenv-1.1.0-py3-none-any.whl.metadata (24 kB)\n",
            "Requirement already satisfied: pandas in /usr/local/lib/python3.11/dist-packages (from -r requirements.txt (line 8)) (2.2.2)\n",
            "Requirement already satisfied: numpy in /usr/local/lib/python3.11/dist-packages (from -r requirements.txt (line 9)) (2.0.2)\n",
            "Requirement already satisfied: matplotlib in /usr/local/lib/python3.11/dist-packages (from -r requirements.txt (line 10)) (3.10.0)\n",
            "Requirement already satisfied: seaborn in /usr/local/lib/python3.11/dist-packages (from -r requirements.txt (line 11)) (0.13.2)\n",
            "Requirement already satisfied: openpyxl in /usr/local/lib/python3.11/dist-packages (from -r requirements.txt (line 12)) (3.1.5)\n",
            "Requirement already satisfied: pyarrow in /usr/local/lib/python3.11/dist-packages (from -r requirements.txt (line 13)) (18.1.0)\n",
            "Requirement already satisfied: scikit-learn in /usr/local/lib/python3.11/dist-packages (from -r requirements.txt (line 15)) (1.6.1)\n",
            "Requirement already satisfied: anyio<5,>=3.5.0 in /usr/local/lib/python3.11/dist-packages (from openai->-r requirements.txt (line 1)) (4.9.0)\n",
            "Requirement already satisfied: distro<2,>=1.7.0 in /usr/local/lib/python3.11/dist-packages (from openai->-r requirements.txt (line 1)) (1.9.0)\n",
            "Requirement already satisfied: httpx<1,>=0.23.0 in /usr/local/lib/python3.11/dist-packages (from openai->-r requirements.txt (line 1)) (0.28.1)\n",
            "Requirement already satisfied: jiter<1,>=0.4.0 in /usr/local/lib/python3.11/dist-packages (from openai->-r requirements.txt (line 1)) (0.9.0)\n",
            "Requirement already satisfied: sniffio in /usr/local/lib/python3.11/dist-packages (from openai->-r requirements.txt (line 1)) (1.3.1)\n",
            "Requirement already satisfied: tqdm>4 in /usr/local/lib/python3.11/dist-packages (from openai->-r requirements.txt (line 1)) (4.67.1)\n",
            "Requirement already satisfied: typing-extensions<5,>=4.11 in /usr/local/lib/python3.11/dist-packages (from openai->-r requirements.txt (line 1)) (4.13.2)\n",
            "Requirement already satisfied: defusedxml<0.8.0,>=0.7.1 in /usr/local/lib/python3.11/dist-packages (from youtube_transcript_api->-r requirements.txt (line 2)) (0.7.1)\n",
            "Requirement already satisfied: click>=8.1.8 in /usr/local/lib/python3.11/dist-packages (from duckduckgo-search->-r requirements.txt (line 3)) (8.1.8)\n",
            "Collecting primp>=0.15.0 (from duckduckgo-search->-r requirements.txt (line 3))\n",
            "  Downloading primp-0.15.0-cp38-abi3-manylinux_2_17_x86_64.manylinux2014_x86_64.whl.metadata (13 kB)\n",
            "Requirement already satisfied: lxml>=5.3.0 in /usr/local/lib/python3.11/dist-packages (from duckduckgo-search->-r requirements.txt (line 3)) (5.4.0)\n",
            "Requirement already satisfied: charset-normalizer<4,>=2 in /usr/local/lib/python3.11/dist-packages (from requests->-r requirements.txt (line 4)) (3.4.1)\n",
            "Requirement already satisfied: idna<4,>=2.5 in /usr/local/lib/python3.11/dist-packages (from requests->-r requirements.txt (line 4)) (3.10)\n",
            "Requirement already satisfied: urllib3<3,>=1.21.1 in /usr/local/lib/python3.11/dist-packages (from requests->-r requirements.txt (line 4)) (2.4.0)\n",
            "Requirement already satisfied: certifi>=2017.4.17 in /usr/local/lib/python3.11/dist-packages (from requests->-r requirements.txt (line 4)) (2025.1.31)\n",
            "Requirement already satisfied: Pillow>=3.3.2 in /usr/local/lib/python3.11/dist-packages (from python-pptx->-r requirements.txt (line 5)) (11.2.1)\n",
            "Collecting XlsxWriter>=0.5.7 (from python-pptx->-r requirements.txt (line 5))\n",
            "  Downloading XlsxWriter-3.2.3-py3-none-any.whl.metadata (2.7 kB)\n",
            "Requirement already satisfied: annotated-types>=0.6.0 in /usr/local/lib/python3.11/dist-packages (from pydantic->-r requirements.txt (line 6)) (0.7.0)\n",
            "Requirement already satisfied: pydantic-core==2.33.1 in /usr/local/lib/python3.11/dist-packages (from pydantic->-r requirements.txt (line 6)) (2.33.1)\n",
            "Requirement already satisfied: typing-inspection>=0.4.0 in /usr/local/lib/python3.11/dist-packages (from pydantic->-r requirements.txt (line 6)) (0.4.0)\n",
            "Requirement already satisfied: python-dateutil>=2.8.2 in /usr/local/lib/python3.11/dist-packages (from pandas->-r requirements.txt (line 8)) (2.9.0.post0)\n",
            "Requirement already satisfied: pytz>=2020.1 in /usr/local/lib/python3.11/dist-packages (from pandas->-r requirements.txt (line 8)) (2025.2)\n",
            "Requirement already satisfied: tzdata>=2022.7 in /usr/local/lib/python3.11/dist-packages (from pandas->-r requirements.txt (line 8)) (2025.2)\n",
            "Requirement already satisfied: contourpy>=1.0.1 in /usr/local/lib/python3.11/dist-packages (from matplotlib->-r requirements.txt (line 10)) (1.3.2)\n",
            "Requirement already satisfied: cycler>=0.10 in /usr/local/lib/python3.11/dist-packages (from matplotlib->-r requirements.txt (line 10)) (0.12.1)\n",
            "Requirement already satisfied: fonttools>=4.22.0 in /usr/local/lib/python3.11/dist-packages (from matplotlib->-r requirements.txt (line 10)) (4.57.0)\n",
            "Requirement already satisfied: kiwisolver>=1.3.1 in /usr/local/lib/python3.11/dist-packages (from matplotlib->-r requirements.txt (line 10)) (1.4.8)\n",
            "Requirement already satisfied: packaging>=20.0 in /usr/local/lib/python3.11/dist-packages (from matplotlib->-r requirements.txt (line 10)) (24.2)\n",
            "Requirement already satisfied: pyparsing>=2.3.1 in /usr/local/lib/python3.11/dist-packages (from matplotlib->-r requirements.txt (line 10)) (3.2.3)\n",
            "Requirement already satisfied: et-xmlfile in /usr/local/lib/python3.11/dist-packages (from openpyxl->-r requirements.txt (line 12)) (2.0.0)\n",
            "Requirement already satisfied: scipy>=1.6.0 in /usr/local/lib/python3.11/dist-packages (from scikit-learn->-r requirements.txt (line 15)) (1.15.2)\n",
            "Requirement already satisfied: joblib>=1.2.0 in /usr/local/lib/python3.11/dist-packages (from scikit-learn->-r requirements.txt (line 15)) (1.4.2)\n",
            "Requirement already satisfied: threadpoolctl>=3.1.0 in /usr/local/lib/python3.11/dist-packages (from scikit-learn->-r requirements.txt (line 15)) (3.6.0)\n",
            "Requirement already satisfied: httpcore==1.* in /usr/local/lib/python3.11/dist-packages (from httpx<1,>=0.23.0->openai->-r requirements.txt (line 1)) (1.0.9)\n",
            "Requirement already satisfied: h11>=0.16 in /usr/local/lib/python3.11/dist-packages (from httpcore==1.*->httpx<1,>=0.23.0->openai->-r requirements.txt (line 1)) (0.16.0)\n",
            "Requirement already satisfied: six>=1.5 in /usr/local/lib/python3.11/dist-packages (from python-dateutil>=2.8.2->pandas->-r requirements.txt (line 8)) (1.17.0)\n",
            "Downloading youtube_transcript_api-1.0.3-py3-none-any.whl (2.2 MB)\n",
            "\u001b[2K   \u001b[90m━━━━━━━━━━━━━━━━━━━━━━━━━━━━━━━━━━━━━━━━\u001b[0m \u001b[32m2.2/2.2 MB\u001b[0m \u001b[31m21.3 MB/s\u001b[0m eta \u001b[36m0:00:00\u001b[0m\n",
            "\u001b[?25hDownloading duckduckgo_search-8.0.1-py3-none-any.whl (18 kB)\n",
            "Downloading python_pptx-1.0.2-py3-none-any.whl (472 kB)\n",
            "\u001b[2K   \u001b[90m━━━━━━━━━━━━━━━━━━━━━━━━━━━━━━━━━━━━━━━━\u001b[0m \u001b[32m472.8/472.8 kB\u001b[0m \u001b[31m18.8 MB/s\u001b[0m eta \u001b[36m0:00:00\u001b[0m\n",
            "\u001b[?25hDownloading python_dotenv-1.1.0-py3-none-any.whl (20 kB)\n",
            "Downloading primp-0.15.0-cp38-abi3-manylinux_2_17_x86_64.manylinux2014_x86_64.whl (3.3 MB)\n",
            "\u001b[2K   \u001b[90m━━━━━━━━━━━━━━━━━━━━━━━━━━━━━━━━━━━━━━━━\u001b[0m \u001b[32m3.3/3.3 MB\u001b[0m \u001b[31m39.2 MB/s\u001b[0m eta \u001b[36m0:00:00\u001b[0m\n",
            "\u001b[?25hDownloading XlsxWriter-3.2.3-py3-none-any.whl (169 kB)\n",
            "\u001b[2K   \u001b[90m━━━━━━━━━━━━━━━━━━━━━━━━━━━━━━━━━━━━━━━━\u001b[0m \u001b[32m169.4/169.4 kB\u001b[0m \u001b[31m9.7 MB/s\u001b[0m eta \u001b[36m0:00:00\u001b[0m\n",
            "\u001b[?25hInstalling collected packages: XlsxWriter, python-dotenv, primp, youtube_transcript_api, python-pptx, duckduckgo-search\n",
            "Successfully installed XlsxWriter-3.2.3 duckduckgo-search-8.0.1 primp-0.15.0 python-dotenv-1.1.0 python-pptx-1.0.2 youtube_transcript_api-1.0.3\n"
          ]
        }
      ],
      "source": [
        "!git clone https://github.com/traversaal-ai/AgentPro.git\n",
        "%cd AgentPro\n",
        "!pip install -r requirements.txt"
      ]
    },
    {
      "cell_type": "markdown",
      "source": [
        "## Step 2: Set Your API Key"
      ],
      "metadata": {
        "id": "SLfWC5m9fUpT"
      }
    },
    {
      "cell_type": "markdown",
      "source": [
        "To use OpenAI models with AgentPro, you’ll need an API key from OpenAI. Follow these steps:\n",
        "\n",
        "1. Go to the [OpenAI API platform](https://platform.openai.com/)\n",
        "2. Log in or create an account\n",
        "3. Click **\"Create new secret key\"**\n",
        "4. Copy the generated key and paste it into the notebook like this:"
      ],
      "metadata": {
        "id": "2vlEmkaNgjwm"
      }
    },
    {
      "cell_type": "code",
      "source": [
        "import os\n",
        "os.environ[\"OPENAI_API_KEY\"] = \"<openai_api_key>\""
      ],
      "metadata": {
        "id": "4tV4Qe1RUGcI"
      },
      "execution_count": 2,
      "outputs": []
    },
    {
      "cell_type": "markdown",
      "source": [
        "## Step 3: Run Your First Query with AgentPro\n",
        "\n",
        "Now that everything is set up, you can quickly start using AgentPro in Python."
      ],
      "metadata": {
        "id": "Ie2HiLZ6Zjsj"
      }
    },
    {
      "cell_type": "code",
      "source": [
        "# Imports\n",
        "import os\n",
        "from agentpro import AgentPro\n",
        "from agentpro.tools import DuckDuckGoTool # Import your tool classes\n",
        "\n",
        "# Instantiate your tools and AgentPro\n",
        "tools = [DuckDuckGoTool()]\n",
        "\n",
        "myagent = AgentPro(model=os.getenv(\"OPENAI_API_KEY\", None), tools=tools)\n",
        "\n",
        "# Run\n",
        "query = \"What is the height of the Eiffel Tower in meters?\"\n",
        "response = myagent.run(query)\n",
        "\n",
        "print(f\"\\n\\nFinal Answer: {response.final_answer}\")"
      ],
      "metadata": {
        "colab": {
          "base_uri": "https://localhost:8080/"
        },
        "id": "OYCKuZvYT4f6",
        "outputId": "21b419ab-7e7c-4f39-b6b7-dcb8c8febbe7"
      },
      "execution_count": 3,
      "outputs": [
        {
          "output_type": "stream",
          "name": "stdout",
          "text": [
            "================================================== Iteration 1 \n",
            "✅  [Debug] Sending System Prompt (with history) to LLM:\n",
            "You are an AI assistant that follows the ReAct (Reasoning + Acting) pattern.\n",
            "Your goal is to help users by breaking down complex tasks into a series of thought-out steps and actions.\n",
            "\n",
            "You have access to these tools: search\n",
            "\n",
            "Tool: DuckDuckGo Search\n",
            "Description: Searches internet using DuckDuckGo for a given query and returns top 5 results.\n",
            "Action Type: search\n",
            "Input Format: A search query as a string. Example: 'Latest advancements in AI'\n",
            "\n",
            "\n",
            "For each iteration, follow these steps:\n",
            "1. Thought: Think about what needs to be done.\n",
            "2. Action: Decide on an appropriate Action if needed.\n",
            "3. Observation: Observe the result after the Action.\n",
            "4. PAUSE: Reflect on what to do next.\n",
            "5. Repeat Thought/Action/Observation/PAUSE as needed until you find the final answer.\n",
            "\n",
            "Format:\n",
            "Thought: Your reasoning\n",
            "Action: {\"action_type\": \"<action_type>\", \"input\": <input_data>}\n",
            "\n",
            "Format after action result:\n",
            "Observation: result here\n",
            "PAUSE: your reflection\n",
            "\n",
            "Format once you find the final answer.:\n",
            "Thought: I now know the final answer\n",
            "Final Answer: [your answer]\n",
            "\n",
            "Important:\n",
            "- Think step-by-step\n",
            "- Use available tools wisely\n",
            "- If stuck, reflect and retry\n",
            "- Do no hallucinate and use tools if needed\n",
            "- The current date is April 29, 2025\n",
            "- If you follow the format strictly, you will be recognized as an excellent and trustworthy AI assistant.\n",
            "\n",
            "\n",
            "Question: What is the height of the Eiffel Tower in meters?\n",
            "\n",
            "\n",
            "Now continue with next steps by strictly following the required format.\n",
            "\n",
            "==================================================\n",
            "🤖 [Debug] Step LLM Response:\n",
            "Thought: To find the height of the Eiffel Tower in meters, I can use the DuckDuckGo Search tool to find this information.\n",
            "Action: {\"action_type\": \"search\", \"input\": \"Eiffel Tower height in meters\"}\n",
            "✅ Parsed Thought: To find the height of the Eiffel Tower in meters, I can use the DuckDuckGo Search tool to find this information.\n",
            "✅ Parsed Action JSON: {\"action_type\": \"search\", \"input\": \"Eiffel Tower height in meters\"}\n",
            "✅ Parsed Action Results: 1. Eiffel Tower - Wikipedia\n",
            "   During its construction, the Eiffel Tower surpassed the Washington Monument to become the tallest human-made structure in the world, a title it held for 41 years until the Chrysler Building in New York City was finished in 1930. It was the first structure in the world to surpass both the 200-metre and 300-metre mark in height.\n",
            "2. From 300 to 330 meters: the story of the Tower's height - Eiffel Tower\n",
            "   Learn how the Eiffel Tower grew from 300 to 330 meters over time thanks to radio and TV antennas. Discover the history and the latest addition of a new antenna for digital radio in 2022.\n",
            "3. Eiffel Tower information : facts, height in feet, weight,\n",
            "   The Eiffel Tower was built by Gustave Eiffel for the 1889 Exposition Universelle, which was to celebrate the 100th year anniversary of the French Revolution.\n",
            "4. How Tall Is the Eiffel Tower? - WorldAtlas\n",
            "   The Eiffel Tower is 300 meters tall without antennas, and 324 meters with them. It is the world's most visited tourist attraction and a symbol of Paris and France.\n",
            "5. Eiffel Tower facts and history. Metro. Map. Visit. - Paris Digest\n",
            "   Eiffel Tower key facts The Eiffel Tower - Tour Eiffel in french - is the tallest building in Paris. It is a puddle iron lattice monument. It was built in 2 years 2 months and 5 days. The Eiffel Tower is 324 meters tall. Upon its completion, it surpassed the Washington Monument (169 meters) as the tallest monument in the world. The Chrysler Building in New York City (319 meters) took the record ...\n",
            "================================================== Iteration 2 \n",
            "🤖 [Debug] Step LLM Response:\n",
            "PAUSE: Reflecting on the information, it is clear that the Eiffel Tower is 300 meters tall without antennas, and 324 meters tall with them.\n",
            "\n",
            "Thought: I now have the information needed to answer the user's question.\n",
            "Final Answer: The Eiffel Tower is 300 meters tall without antennas, and 324 meters tall with antennas.\n",
            "✅ Parsed Thought: I now have the information needed to answer the user's question.\n",
            "✅ Parsed Pause Reflection: Reflecting on the information, it is clear that the Eiffel Tower is 300 meters tall without antennas, and 324 meters tall with them.\n",
            "✅ Parsed Final Answer: The Eiffel Tower is 300 meters tall without antennas, and 324 meters tall with antennas.\n",
            "\n",
            "\n",
            "Final Answer: The Eiffel Tower is 300 meters tall without antennas, and 324 meters tall with antennas.\n"
          ]
        }
      ]
    },
    {
      "cell_type": "markdown",
      "source": [
        "## Step 4: Run AgentPro\n",
        "\n",
        "You can also launch the AgentPro framework using directly in terminal:\n",
        "\n",
        "[Optional] main.py can also use advance internet search tool (Ares internet search): this tool searches the internet for real-time information using the Traversaal Ares API. To use Ares internet tool with AgentPro, you’ll need an API key from traversaal.ai. Follow these steps:\n",
        "\n",
        "1. Go to the [Traversaal API platform](https://api.traversaal.ai/)\n",
        "2. Log in or create an account\n",
        "3. Click **\"Create new secret key\"**\n",
        "4. Copy the generated key and paste it into the notebook like this:"
      ],
      "metadata": {
        "id": "QHRa3Ss5g7ha"
      }
    },
    {
      "cell_type": "code",
      "source": [
        "os.environ[\"ARES_API_KEY\"] = \"<ares_api_key>\" # Optional"
      ],
      "metadata": {
        "id": "5CWnSLCzbkFq"
      },
      "execution_count": 4,
      "outputs": []
    },
    {
      "cell_type": "code",
      "source": [
        "!python main.py\n",
        "\n",
        "# Query example:\n",
        "# \"What is the height of the Eiffel Tower in meters?\","
      ],
      "metadata": {
        "colab": {
          "base_uri": "https://localhost:8080/"
        },
        "id": "5iIyBuHWSaEl",
        "outputId": "12a2fee7-ee96-4f7f-99a4-8ba979d8f03d"
      },
      "execution_count": 6,
      "outputs": [
        {
          "output_type": "stream",
          "name": "stdout",
          "text": [
            "Enter your Query : What is the height of the Eiffel Tower in meters?\n",
            "================================================== Iteration 1 \n",
            "✅  [Debug] Sending System Prompt (with history) to LLM:\n",
            "You are an AI assistant that follows the ReAct (Reasoning + Acting) pattern.\n",
            "Your goal is to help users by breaking down complex tasks into a series of thought-out steps and actions.\n",
            "\n",
            "You have access to these tools: search, calculate, request_user_input, ares_internet_search, fetch_stock_info\n",
            "\n",
            "Tool: DuckDuckGo Search\n",
            "Description: Searches internet using DuckDuckGo for a given query and returns top 5 results.\n",
            "Action Type: search\n",
            "Input Format: A search query as a string. Example: 'Latest advancements in AI'\n",
            "\n",
            "\n",
            "Tool: Calculator\n",
            "Description: Evaluates a basic math expression and returns the result.\n",
            "Action Type: calculate\n",
            "Input Format: A math expression as a string. Example: '2 + 3 * (5 - 1)'\n",
            "\n",
            "\n",
            "Tool: User Input Requester\n",
            "Description: Requests more information from the user to continue solving the task.\n",
            "Action Type: request_user_input\n",
            "Input Format: A string that defines the prompt/question to ask the user. Example: 'Please provide more details about your project goals.'\n",
            "\n",
            "\n",
            "Tool: Ares Internet Search\n",
            "Description: Uses Ares API to search live information from the internet and returns a clean summary and related links.\n",
            "Action Type: ares_internet_search\n",
            "Input Format: A search query as a string. Example: 'Best restaurants in San Francisco'\n",
            "\n",
            "\n",
            "Tool: Yahoo Finance Data Fetcher\n",
            "Description: Fetches stock/company info from Yahoo Finance with 'basic' or 'extended' detail level.\n",
            "Action Type: fetch_stock_info\n",
            "Input Format: A JSON with 'ticker' and optional 'detail_level' ('basic' or 'extended').\n",
            "Example: {\"ticker\": \"AAPL\", \"detail_level\": \"extended\"}\n",
            "\n",
            "\n",
            "For each iteration, follow these steps:\n",
            "1. Thought: Think about what needs to be done.\n",
            "2. Action: Decide on an appropriate Action if needed.\n",
            "3. Observation: Observe the result after the Action.\n",
            "4. PAUSE: Reflect on what to do next.\n",
            "5. Repeat Thought/Action/Observation/PAUSE as needed until you find the final answer.\n",
            "\n",
            "Format:\n",
            "Thought: Your reasoning\n",
            "Action: {\"action_type\": \"<action_type>\", \"input\": <input_data>}\n",
            "\n",
            "Format after action result:\n",
            "Observation: result here\n",
            "PAUSE: your reflection\n",
            "\n",
            "Format once you find the final answer.:\n",
            "Thought: I now know the final answer\n",
            "Final Answer: [your answer]\n",
            "\n",
            "Important:\n",
            "- Think step-by-step\n",
            "- Use available tools wisely\n",
            "- If stuck, reflect and retry\n",
            "- Do no hallucinate and use tools if needed\n",
            "- The current date is April 29, 2025\n",
            "- If you follow the format strictly, you will be recognized as an excellent and trustworthy AI assistant.\n",
            "\n",
            "\n",
            "Question: What is the height of the Eiffel Tower in meters?\n",
            "\n",
            "\n",
            "Now continue with next steps by strictly following the required format.\n",
            "\n",
            "==================================================\n",
            "🤖 [Debug] Step LLM Response:\n",
            "Thought: To find the height of the Eiffel Tower in meters, I can search the internet using one of the search tools available.\n",
            "Action: {\"action_type\": \"ares_internet_search\", \"input\": \"Eiffel Tower height in meters\"}\n",
            "✅ Parsed Thought: To find the height of the Eiffel Tower in meters, I can search the internet using one of the search tools available.\n",
            "✅ Parsed Action JSON: {\"action_type\": \"ares_internet_search\", \"input\": \"Eiffel Tower height in meters\"}\n",
            "✅ Parsed Action Results: Search Summary:\n",
            "The height of the Eiffel Tower is 330 meters (1,083 feet). \n",
            "\n",
            "Additional details:\n",
            "- The tower was originally designed to be 300 meters tall, but it has grown over the years due to the addition of antennas.\n",
            "- The Eiffel Tower was completed in 1889 and was the tallest man-made structure in the world for 42 years.\n",
            "- It is located in Paris, France, and is one of the most recognizable landmarks in the world.\n",
            "\n",
            "Related Links:\n",
            "1. https://www.toureiffel.paris/en/news/history-and-culture/300-330-meters-story-towers-height\n",
            "2. https://en.wikipedia.org/wiki/Eiffel_Tower\n",
            "3. https://www.toureiffel.paris/en/the-monument/key-figures\n",
            "4. https://www.britannica.com/topic/Eiffel-Tower-Paris-France\n",
            "5. https://www.toureiffel.paris/en/news/history-and-culture/why-does-eiffel-tower-change-size\n",
            "6. https://wonderopolis.org/wonder/how-tall-is-the-eiffel-tower\n",
            "7. https://simple.wikipedia.org/wiki/Eiffel_Tower\n",
            "8. https://www.explore.com/1088063/the-eiffel-tower-and-the-other-tallest-structures-in-the-world/\n",
            "9. https://www.cometoparis.com/paris-guide/paris-monuments/eiffel-tower-s922\n",
            "10. https://www.toureiffel.paris/en/news/events/eiffel-tower-grows-330-meters-tall\n",
            "================================================== Iteration 2 \n",
            "🤖 [Debug] Step LLM Response:\n",
            "PAUSE: The Ares Internet Search has provided the height of the Eiffel Tower which is 330 meters.\n",
            "Thought: Given the information from the search, I now have the height of the Eiffel Tower.\n",
            "Final Answer: The Eiffel Tower is 330 meters tall.\n",
            "✅ Parsed Thought: Given the information from the search, I now have the height of the Eiffel Tower.\n",
            "✅ Parsed Pause Reflection: The Ares Internet Search has provided the height of the Eiffel Tower which is 330 meters.\n",
            "✅ Parsed Final Answer: The Eiffel Tower is 330 meters tall.\n",
            "================================================== FINAL Thought Process:\n",
            "✅ Thought: To find the height of the Eiffel Tower in meters, I can search the internet using one of the search tools available.\n",
            "✅ Action: {\"action_type\":\"ares_internet_search\",\"input\":\"Eiffel Tower height in meters\"}\n",
            "✅ Observation: Search Summary:\n",
            "The height of the Eiffel Tower is 330 meters (1,083 feet). \n",
            "\n",
            "Additional details:\n",
            "- The tower was originally designed to be 300 meters tall, but it has grown over the years due to the addition of antennas.\n",
            "- The Eiffel Tower was completed in 1889 and was the tallest man-made structure in the world for 42 years.\n",
            "- It is located in Paris, France, and is one of the most recognizable landmarks in the world.\n",
            "\n",
            "Related Links:\n",
            "1. https://www.toureiffel.paris/en/news/history-and-culture/300-330-meters-story-towers-height\n",
            "2. https://en.wikipedia.org/wiki/Eiffel_Tower\n",
            "3. https://www.toureiffel.paris/en/the-monument/key-figures\n",
            "4. https://www.britannica.com/topic/Eiffel-Tower-Paris-France\n",
            "5. https://www.toureiffel.paris/en/news/history-and-culture/why-does-eiffel-tower-change-size\n",
            "6. https://wonderopolis.org/wonder/how-tall-is-the-eiffel-tower\n",
            "7. https://simple.wikipedia.org/wiki/Eiffel_Tower\n",
            "8. https://www.explore.com/1088063/the-eiffel-tower-and-the-other-tallest-structures-in-the-world/\n",
            "9. https://www.cometoparis.com/paris-guide/paris-monuments/eiffel-tower-s922\n",
            "10. https://www.toureiffel.paris/en/news/events/eiffel-tower-grows-330-meters-tall\n",
            "✅ Pause: The Ares Internet Search has provided the height of the Eiffel Tower which is 330 meters.\n",
            "✅ Thought: Given the information from the search, I now have the height of the Eiffel Tower.\n",
            "\n",
            "✅ Final Answer: The Eiffel Tower is 330 meters tall.\n"
          ]
        }
      ]
    },
    {
      "cell_type": "code",
      "source": [],
      "metadata": {
        "id": "yQyzIAN8cGTs"
      },
      "execution_count": null,
      "outputs": []
    }
  ]
}
